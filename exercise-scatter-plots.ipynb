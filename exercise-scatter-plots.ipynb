{
 "cells": [
  {
   "cell_type": "markdown",
   "id": "7143a3f6",
   "metadata": {
    "papermill": {
     "duration": 0.009871,
     "end_time": "2023-06-07T20:14:50.247704",
     "exception": false,
     "start_time": "2023-06-07T20:14:50.237833",
     "status": "completed"
    },
    "tags": []
   },
   "source": [
    "**This notebook is an exercise in the [Data Visualization](https://www.kaggle.com/learn/data-visualization) course.  You can reference the tutorial at [this link](https://www.kaggle.com/alexisbcook/scatter-plots).**\n",
    "\n",
    "---\n"
   ]
  },
  {
   "cell_type": "markdown",
   "id": "e6963051",
   "metadata": {
    "papermill": {
     "duration": 0.007323,
     "end_time": "2023-06-07T20:14:50.262843",
     "exception": false,
     "start_time": "2023-06-07T20:14:50.255520",
     "status": "completed"
    },
    "tags": []
   },
   "source": [
    "In this exercise, you will use your new knowledge to propose a solution to a real-world scenario.  To succeed, you will need to import data into Python, answer questions using the data, and generate **scatter plots** to understand patterns in the data.\n",
    "\n",
    "## Scenario\n",
    "\n",
    "You work for a major candy producer, and your goal is to write a report that your company can use to guide the design of its next product.  Soon after starting your research, you stumble across this [very interesting dataset](https://fivethirtyeight.com/features/the-ultimate-halloween-candy-power-ranking/) containing results from a fun survey to crowdsource favorite candies.\n",
    "\n",
    "## Setup\n",
    "\n",
    "Run the next cell to import and configure the Python libraries that you need to complete the exercise."
   ]
  },
  {
   "cell_type": "code",
   "execution_count": 1,
   "id": "a9c096e0",
   "metadata": {
    "execution": {
     "iopub.execute_input": "2023-06-07T20:14:50.280748Z",
     "iopub.status.busy": "2023-06-07T20:14:50.279459Z",
     "iopub.status.idle": "2023-06-07T20:14:51.636388Z",
     "shell.execute_reply": "2023-06-07T20:14:51.635357Z"
    },
    "papermill": {
     "duration": 1.368178,
     "end_time": "2023-06-07T20:14:51.638694",
     "exception": false,
     "start_time": "2023-06-07T20:14:50.270516",
     "status": "completed"
    },
    "tags": []
   },
   "outputs": [
    {
     "name": "stdout",
     "output_type": "stream",
     "text": [
      "Setup Complete\n"
     ]
    }
   ],
   "source": [
    "import pandas as pd\n",
    "pd.plotting.register_matplotlib_converters()\n",
    "import matplotlib.pyplot as plt\n",
    "%matplotlib inline\n",
    "import seaborn as sns\n",
    "print(\"Setup Complete\")"
   ]
  },
  {
   "cell_type": "markdown",
   "id": "d887f99f",
   "metadata": {
    "papermill": {
     "duration": 0.00731,
     "end_time": "2023-06-07T20:14:51.653945",
     "exception": false,
     "start_time": "2023-06-07T20:14:51.646635",
     "status": "completed"
    },
    "tags": []
   },
   "source": [
    "The questions below will give you feedback on your work. Run the following cell to set up our feedback system."
   ]
  },
  {
   "cell_type": "code",
   "execution_count": 2,
   "id": "08137c82",
   "metadata": {
    "execution": {
     "iopub.execute_input": "2023-06-07T20:14:51.670718Z",
     "iopub.status.busy": "2023-06-07T20:14:51.670154Z",
     "iopub.status.idle": "2023-06-07T20:14:51.739705Z",
     "shell.execute_reply": "2023-06-07T20:14:51.738528Z"
    },
    "papermill": {
     "duration": 0.080462,
     "end_time": "2023-06-07T20:14:51.741949",
     "exception": false,
     "start_time": "2023-06-07T20:14:51.661487",
     "status": "completed"
    },
    "tags": []
   },
   "outputs": [
    {
     "name": "stdout",
     "output_type": "stream",
     "text": [
      "Setup Complete\n"
     ]
    }
   ],
   "source": [
    "# Set up code checking\n",
    "import os\n",
    "if not os.path.exists(\"../input/candy.csv\"):\n",
    "    os.symlink(\"../input/data-for-datavis/candy.csv\", \"../input/candy.csv\") \n",
    "from learntools.core import binder\n",
    "binder.bind(globals())\n",
    "from learntools.data_viz_to_coder.ex4 import *\n",
    "print(\"Setup Complete\")"
   ]
  },
  {
   "cell_type": "markdown",
   "id": "ad56651a",
   "metadata": {
    "papermill": {
     "duration": 0.007445,
     "end_time": "2023-06-07T20:14:51.757319",
     "exception": false,
     "start_time": "2023-06-07T20:14:51.749874",
     "status": "completed"
    },
    "tags": []
   },
   "source": [
    "## Step 1: Load the Data\n",
    "\n",
    "Read the candy data file into `candy_data`.  Use the `\"id\"` column to label the rows."
   ]
  },
  {
   "cell_type": "code",
   "execution_count": 3,
   "id": "a9c5dc75",
   "metadata": {
    "execution": {
     "iopub.execute_input": "2023-06-07T20:14:51.774388Z",
     "iopub.status.busy": "2023-06-07T20:14:51.774014Z",
     "iopub.status.idle": "2023-06-07T20:14:51.789627Z",
     "shell.execute_reply": "2023-06-07T20:14:51.788681Z"
    },
    "papermill": {
     "duration": 0.026569,
     "end_time": "2023-06-07T20:14:51.791597",
     "exception": false,
     "start_time": "2023-06-07T20:14:51.765028",
     "status": "completed"
    },
    "tags": []
   },
   "outputs": [
    {
     "data": {
      "application/javascript": [
       "parent.postMessage({\"jupyterEvent\": \"custom.exercise_interaction\", \"data\": {\"outcomeType\": 1, \"valueTowardsCompletion\": 0.3333333333333333, \"interactionType\": 1, \"questionType\": 1, \"questionId\": \"1_LoadData\", \"learnToolsVersion\": \"0.3.4\", \"failureMessage\": \"\", \"exceptionClass\": \"\", \"trace\": \"\"}}, \"*\")"
      ],
      "text/plain": [
       "<IPython.core.display.Javascript object>"
      ]
     },
     "metadata": {},
     "output_type": "display_data"
    },
    {
     "data": {
      "text/markdown": [
       "<span style=\"color:#33cc33\">Correct</span>"
      ],
      "text/plain": [
       "Correct"
      ]
     },
     "metadata": {},
     "output_type": "display_data"
    }
   ],
   "source": [
    "# Path of the file to read\n",
    "candy_filepath = \"../input/candy.csv\"\n",
    "\n",
    "# Fill in the line below to read the file into a variable candy_data\n",
    "candy_data = pd.read_csv(candy_filepath, index_col=\"id\")\n",
    "\n",
    "# Run the line below with no changes to check that you've loaded the data correctly\n",
    "step_1.check()"
   ]
  },
  {
   "cell_type": "code",
   "execution_count": 4,
   "id": "66545ee9",
   "metadata": {
    "execution": {
     "iopub.execute_input": "2023-06-07T20:14:51.809841Z",
     "iopub.status.busy": "2023-06-07T20:14:51.808897Z",
     "iopub.status.idle": "2023-06-07T20:14:51.813129Z",
     "shell.execute_reply": "2023-06-07T20:14:51.812412Z"
    },
    "papermill": {
     "duration": 0.015478,
     "end_time": "2023-06-07T20:14:51.815114",
     "exception": false,
     "start_time": "2023-06-07T20:14:51.799636",
     "status": "completed"
    },
    "tags": []
   },
   "outputs": [],
   "source": [
    "# Lines below will give you a hint or solution code\n",
    "#step_1.hint()\n",
    "#step_1.solution()"
   ]
  },
  {
   "cell_type": "markdown",
   "id": "7e91242b",
   "metadata": {
    "papermill": {
     "duration": 0.007682,
     "end_time": "2023-06-07T20:14:51.830920",
     "exception": false,
     "start_time": "2023-06-07T20:14:51.823238",
     "status": "completed"
    },
    "tags": []
   },
   "source": [
    "## Step 2: Review the data\n",
    "\n",
    "Use a Python command to print the first five rows of the data."
   ]
  },
  {
   "cell_type": "code",
   "execution_count": 5,
   "id": "a3ca3a86",
   "metadata": {
    "execution": {
     "iopub.execute_input": "2023-06-07T20:14:51.848476Z",
     "iopub.status.busy": "2023-06-07T20:14:51.848093Z",
     "iopub.status.idle": "2023-06-07T20:14:51.874483Z",
     "shell.execute_reply": "2023-06-07T20:14:51.873503Z"
    },
    "papermill": {
     "duration": 0.037713,
     "end_time": "2023-06-07T20:14:51.876610",
     "exception": false,
     "start_time": "2023-06-07T20:14:51.838897",
     "status": "completed"
    },
    "tags": []
   },
   "outputs": [
    {
     "data": {
      "text/html": [
       "<div>\n",
       "<style scoped>\n",
       "    .dataframe tbody tr th:only-of-type {\n",
       "        vertical-align: middle;\n",
       "    }\n",
       "\n",
       "    .dataframe tbody tr th {\n",
       "        vertical-align: top;\n",
       "    }\n",
       "\n",
       "    .dataframe thead th {\n",
       "        text-align: right;\n",
       "    }\n",
       "</style>\n",
       "<table border=\"1\" class=\"dataframe\">\n",
       "  <thead>\n",
       "    <tr style=\"text-align: right;\">\n",
       "      <th></th>\n",
       "      <th>competitorname</th>\n",
       "      <th>chocolate</th>\n",
       "      <th>fruity</th>\n",
       "      <th>caramel</th>\n",
       "      <th>peanutyalmondy</th>\n",
       "      <th>nougat</th>\n",
       "      <th>crispedricewafer</th>\n",
       "      <th>hard</th>\n",
       "      <th>bar</th>\n",
       "      <th>pluribus</th>\n",
       "      <th>sugarpercent</th>\n",
       "      <th>pricepercent</th>\n",
       "      <th>winpercent</th>\n",
       "    </tr>\n",
       "    <tr>\n",
       "      <th>id</th>\n",
       "      <th></th>\n",
       "      <th></th>\n",
       "      <th></th>\n",
       "      <th></th>\n",
       "      <th></th>\n",
       "      <th></th>\n",
       "      <th></th>\n",
       "      <th></th>\n",
       "      <th></th>\n",
       "      <th></th>\n",
       "      <th></th>\n",
       "      <th></th>\n",
       "      <th></th>\n",
       "    </tr>\n",
       "  </thead>\n",
       "  <tbody>\n",
       "    <tr>\n",
       "      <th>0</th>\n",
       "      <td>100 Grand</td>\n",
       "      <td>Yes</td>\n",
       "      <td>No</td>\n",
       "      <td>Yes</td>\n",
       "      <td>No</td>\n",
       "      <td>No</td>\n",
       "      <td>Yes</td>\n",
       "      <td>No</td>\n",
       "      <td>Yes</td>\n",
       "      <td>No</td>\n",
       "      <td>0.732</td>\n",
       "      <td>0.860</td>\n",
       "      <td>66.971725</td>\n",
       "    </tr>\n",
       "    <tr>\n",
       "      <th>1</th>\n",
       "      <td>3 Musketeers</td>\n",
       "      <td>Yes</td>\n",
       "      <td>No</td>\n",
       "      <td>No</td>\n",
       "      <td>No</td>\n",
       "      <td>Yes</td>\n",
       "      <td>No</td>\n",
       "      <td>No</td>\n",
       "      <td>Yes</td>\n",
       "      <td>No</td>\n",
       "      <td>0.604</td>\n",
       "      <td>0.511</td>\n",
       "      <td>67.602936</td>\n",
       "    </tr>\n",
       "    <tr>\n",
       "      <th>2</th>\n",
       "      <td>Air Heads</td>\n",
       "      <td>No</td>\n",
       "      <td>Yes</td>\n",
       "      <td>No</td>\n",
       "      <td>No</td>\n",
       "      <td>No</td>\n",
       "      <td>No</td>\n",
       "      <td>No</td>\n",
       "      <td>No</td>\n",
       "      <td>No</td>\n",
       "      <td>0.906</td>\n",
       "      <td>0.511</td>\n",
       "      <td>52.341465</td>\n",
       "    </tr>\n",
       "    <tr>\n",
       "      <th>3</th>\n",
       "      <td>Almond Joy</td>\n",
       "      <td>Yes</td>\n",
       "      <td>No</td>\n",
       "      <td>No</td>\n",
       "      <td>Yes</td>\n",
       "      <td>No</td>\n",
       "      <td>No</td>\n",
       "      <td>No</td>\n",
       "      <td>Yes</td>\n",
       "      <td>No</td>\n",
       "      <td>0.465</td>\n",
       "      <td>0.767</td>\n",
       "      <td>50.347546</td>\n",
       "    </tr>\n",
       "    <tr>\n",
       "      <th>4</th>\n",
       "      <td>Baby Ruth</td>\n",
       "      <td>Yes</td>\n",
       "      <td>No</td>\n",
       "      <td>Yes</td>\n",
       "      <td>Yes</td>\n",
       "      <td>Yes</td>\n",
       "      <td>No</td>\n",
       "      <td>No</td>\n",
       "      <td>Yes</td>\n",
       "      <td>No</td>\n",
       "      <td>0.604</td>\n",
       "      <td>0.767</td>\n",
       "      <td>56.914547</td>\n",
       "    </tr>\n",
       "  </tbody>\n",
       "</table>\n",
       "</div>"
      ],
      "text/plain": [
       "   competitorname chocolate fruity caramel peanutyalmondy nougat  \\\n",
       "id                                                                 \n",
       "0       100 Grand       Yes     No     Yes             No     No   \n",
       "1    3 Musketeers       Yes     No      No             No    Yes   \n",
       "2       Air Heads        No    Yes      No             No     No   \n",
       "3      Almond Joy       Yes     No      No            Yes     No   \n",
       "4       Baby Ruth       Yes     No     Yes            Yes    Yes   \n",
       "\n",
       "   crispedricewafer hard  bar pluribus  sugarpercent  pricepercent  winpercent  \n",
       "id                                                                              \n",
       "0               Yes   No  Yes       No         0.732         0.860   66.971725  \n",
       "1                No   No  Yes       No         0.604         0.511   67.602936  \n",
       "2                No   No   No       No         0.906         0.511   52.341465  \n",
       "3                No   No  Yes       No         0.465         0.767   50.347546  \n",
       "4                No   No  Yes       No         0.604         0.767   56.914547  "
      ]
     },
     "execution_count": 5,
     "metadata": {},
     "output_type": "execute_result"
    }
   ],
   "source": [
    "# Print the first five rows of the data\n",
    "candy_data.head()"
   ]
  },
  {
   "cell_type": "markdown",
   "id": "313c34ca",
   "metadata": {
    "papermill": {
     "duration": 0.007938,
     "end_time": "2023-06-07T20:14:51.892920",
     "exception": false,
     "start_time": "2023-06-07T20:14:51.884982",
     "status": "completed"
    },
    "tags": []
   },
   "source": [
    "The dataset contains 83 rows, where each corresponds to a different candy bar.  There are 13 columns:\n",
    "- `'competitorname'` contains the name of the candy bar. \n",
    "- the next **9** columns (from `'chocolate'` to `'pluribus'`) describe the candy.  For instance, rows with chocolate candies have `\"Yes\"` in the `'chocolate'` column (and candies without chocolate have `\"No\"` in the same column).\n",
    "- `'sugarpercent'` provides some indication of the amount of sugar, where higher values signify higher sugar content.\n",
    "- `'pricepercent'` shows the price per unit, relative to the other candies in the dataset.\n",
    "- `'winpercent'` is calculated from the survey results; higher values indicate that the candy was more popular with survey respondents.\n",
    "\n",
    "Use the first five rows of the data to answer the questions below."
   ]
  },
  {
   "cell_type": "code",
   "execution_count": 6,
   "id": "3f2b2358",
   "metadata": {
    "execution": {
     "iopub.execute_input": "2023-06-07T20:14:51.911202Z",
     "iopub.status.busy": "2023-06-07T20:14:51.910608Z",
     "iopub.status.idle": "2023-06-07T20:14:51.919477Z",
     "shell.execute_reply": "2023-06-07T20:14:51.918648Z"
    },
    "papermill": {
     "duration": 0.020443,
     "end_time": "2023-06-07T20:14:51.921494",
     "exception": false,
     "start_time": "2023-06-07T20:14:51.901051",
     "status": "completed"
    },
    "tags": []
   },
   "outputs": [
    {
     "data": {
      "application/javascript": [
       "parent.postMessage({\"jupyterEvent\": \"custom.exercise_interaction\", \"data\": {\"outcomeType\": 1, \"valueTowardsCompletion\": 0.3333333333333333, \"interactionType\": 1, \"questionType\": 1, \"questionId\": \"2_ReviewData\", \"learnToolsVersion\": \"0.3.4\", \"failureMessage\": \"\", \"exceptionClass\": \"\", \"trace\": \"\"}}, \"*\")"
      ],
      "text/plain": [
       "<IPython.core.display.Javascript object>"
      ]
     },
     "metadata": {},
     "output_type": "display_data"
    },
    {
     "data": {
      "text/markdown": [
       "<span style=\"color:#33cc33\">Correct</span>"
      ],
      "text/plain": [
       "Correct"
      ]
     },
     "metadata": {},
     "output_type": "display_data"
    }
   ],
   "source": [
    "# Fill in the line below: Which candy was more popular with survey respondents:\n",
    "# '3 Musketeers' or 'Almond Joy'?  (Please enclose your answer in single quotes.)\n",
    "more_popular = '3 Musketeers'\n",
    "\n",
    "# Fill in the line below: Which candy has higher sugar content: 'Air Heads'\n",
    "# or 'Baby Ruth'? (Please enclose your answer in single quotes.)\n",
    "more_sugar = 'Air Heads'\n",
    "\n",
    "# Check your answers\n",
    "step_2.check()"
   ]
  },
  {
   "cell_type": "code",
   "execution_count": 7,
   "id": "9dcd1284",
   "metadata": {
    "execution": {
     "iopub.execute_input": "2023-06-07T20:14:51.940312Z",
     "iopub.status.busy": "2023-06-07T20:14:51.939902Z",
     "iopub.status.idle": "2023-06-07T20:14:51.944032Z",
     "shell.execute_reply": "2023-06-07T20:14:51.943292Z"
    },
    "papermill": {
     "duration": 0.015779,
     "end_time": "2023-06-07T20:14:51.945888",
     "exception": false,
     "start_time": "2023-06-07T20:14:51.930109",
     "status": "completed"
    },
    "tags": []
   },
   "outputs": [],
   "source": [
    "# Lines below will give you a hint or solution code\n",
    "#step_2.hint()\n",
    "#step_2.solution()"
   ]
  },
  {
   "cell_type": "markdown",
   "id": "b97f11c9",
   "metadata": {
    "papermill": {
     "duration": 0.00834,
     "end_time": "2023-06-07T20:14:51.962921",
     "exception": false,
     "start_time": "2023-06-07T20:14:51.954581",
     "status": "completed"
    },
    "tags": []
   },
   "source": [
    "## Step 3: The role of sugar\n",
    "\n",
    "Do people tend to prefer candies with higher sugar content?  \n",
    "\n",
    "#### Part A\n",
    "\n",
    "Create a scatter plot that shows the relationship between `'sugarpercent'` (on the horizontal x-axis) and `'winpercent'` (on the vertical y-axis).  _Don't add a regression line just yet -- you'll do that in the next step!_"
   ]
  },
  {
   "cell_type": "code",
   "execution_count": 8,
   "id": "6b6a6185",
   "metadata": {
    "execution": {
     "iopub.execute_input": "2023-06-07T20:14:51.982244Z",
     "iopub.status.busy": "2023-06-07T20:14:51.981204Z",
     "iopub.status.idle": "2023-06-07T20:14:52.272116Z",
     "shell.execute_reply": "2023-06-07T20:14:52.271125Z"
    },
    "papermill": {
     "duration": 0.302836,
     "end_time": "2023-06-07T20:14:52.274407",
     "exception": false,
     "start_time": "2023-06-07T20:14:51.971571",
     "status": "completed"
    },
    "tags": []
   },
   "outputs": [
    {
     "data": {
      "application/javascript": [
       "parent.postMessage({\"jupyterEvent\": \"custom.exercise_interaction\", \"data\": {\"outcomeType\": 1, \"valueTowardsCompletion\": 0.3333333333333333, \"interactionType\": 1, \"questionType\": 2, \"questionId\": \"3.1_PlotBlueScatter\", \"learnToolsVersion\": \"0.3.4\", \"failureMessage\": \"\", \"exceptionClass\": \"\", \"trace\": \"\"}}, \"*\")"
      ],
      "text/plain": [
       "<IPython.core.display.Javascript object>"
      ]
     },
     "metadata": {},
     "output_type": "display_data"
    },
    {
     "data": {
      "text/markdown": [
       "<span style=\"color:#33cc33\">Correct</span>"
      ],
      "text/plain": [
       "Correct"
      ]
     },
     "metadata": {},
     "output_type": "display_data"
    },
    {
     "data": {
      "image/png": "[encoded data removed]",
      "text/plain": [
       "<Figure size 640x480 with 1 Axes>"
      ]
     },
     "metadata": {},
     "output_type": "display_data"
    }
   ],
   "source": [
    "# Scatter plot showing the relationship between 'sugarpercent' and 'winpercent'\n",
    "sns.scatterplot(x=candy_data['sugarpercent'], y=candy_data['winpercent'])\n",
    "\n",
    "# Check your answer\n",
    "step_3.a.check()"
   ]
  },
  {
   "cell_type": "code",
   "execution_count": 9,
   "id": "bd878b6e",
   "metadata": {
    "execution": {
     "iopub.execute_input": "2023-06-07T20:14:52.294465Z",
     "iopub.status.busy": "2023-06-07T20:14:52.293988Z",
     "iopub.status.idle": "2023-06-07T20:14:52.298588Z",
     "shell.execute_reply": "2023-06-07T20:14:52.297480Z"
    },
    "papermill": {
     "duration": 0.01714,
     "end_time": "2023-06-07T20:14:52.300760",
     "exception": false,
     "start_time": "2023-06-07T20:14:52.283620",
     "status": "completed"
    },
    "tags": []
   },
   "outputs": [],
   "source": [
    "# Lines below will give you a hint or solution code\n",
    "#step_3.a.hint()\n",
    "#step_3.a.solution_plot()"
   ]
  },
  {
   "cell_type": "markdown",
   "id": "45051bbc",
   "metadata": {
    "papermill": {
     "duration": 0.008964,
     "end_time": "2023-06-07T20:14:52.319156",
     "exception": false,
     "start_time": "2023-06-07T20:14:52.310192",
     "status": "completed"
    },
    "tags": []
   },
   "source": [
    "#### Part B\n",
    "\n",
    "Does the scatter plot show a **strong** correlation between the two variables?  If so, are candies with more sugar relatively more or less popular with the survey respondents?"
   ]
  },
  {
   "cell_type": "code",
   "execution_count": 10,
   "id": "5773d843",
   "metadata": {
    "execution": {
     "iopub.execute_input": "2023-06-07T20:14:52.339276Z",
     "iopub.status.busy": "2023-06-07T20:14:52.338580Z",
     "iopub.status.idle": "2023-06-07T20:14:52.343071Z",
     "shell.execute_reply": "2023-06-07T20:14:52.342143Z"
    },
    "papermill": {
     "duration": 0.016646,
     "end_time": "2023-06-07T20:14:52.345070",
     "exception": false,
     "start_time": "2023-06-07T20:14:52.328424",
     "status": "completed"
    },
    "tags": []
   },
   "outputs": [],
   "source": [
    "#step_3.b.hint()"
   ]
  },
  {
   "cell_type": "code",
   "execution_count": 11,
   "id": "01c504fe",
   "metadata": {
    "execution": {
     "iopub.execute_input": "2023-06-07T20:14:52.364742Z",
     "iopub.status.busy": "2023-06-07T20:14:52.364401Z",
     "iopub.status.idle": "2023-06-07T20:14:52.372193Z",
     "shell.execute_reply": "2023-06-07T20:14:52.371251Z"
    },
    "papermill": {
     "duration": 0.020084,
     "end_time": "2023-06-07T20:14:52.374210",
     "exception": false,
     "start_time": "2023-06-07T20:14:52.354126",
     "status": "completed"
    },
    "tags": []
   },
   "outputs": [
    {
     "data": {
      "application/javascript": [
       "parent.postMessage({\"jupyterEvent\": \"custom.exercise_interaction\", \"data\": {\"interactionType\": 3, \"questionType\": 4, \"questionId\": \"3.2_ThinkBlueScatter\", \"learnToolsVersion\": \"0.3.4\", \"valueTowardsCompletion\": 0.0, \"failureMessage\": \"\", \"exceptionClass\": \"\", \"trace\": \"\", \"outcomeType\": 4}}, \"*\")"
      ],
      "text/plain": [
       "<IPython.core.display.Javascript object>"
      ]
     },
     "metadata": {},
     "output_type": "display_data"
    },
    {
     "data": {
      "text/markdown": [
       "<span style=\"color:#33cc99\">Solution:</span> The scatter plot does not show a strong correlation between the two variables. Since there is no clear relationship between the two variables, this tells us that sugar content does not play a strong role in candy popularity."
      ],
      "text/plain": [
       "Solution: The scatter plot does not show a strong correlation between the two variables. Since there is no clear relationship between the two variables, this tells us that sugar content does not play a strong role in candy popularity."
      ]
     },
     "metadata": {},
     "output_type": "display_data"
    }
   ],
   "source": [
    "# Check your answer (Run this code cell to receive credit!)\n",
    "step_3.b.solution()"
   ]
  },
  {
   "cell_type": "markdown",
   "id": "137910cc",
   "metadata": {
    "papermill": {
     "duration": 0.009179,
     "end_time": "2023-06-07T20:14:52.392990",
     "exception": false,
     "start_time": "2023-06-07T20:14:52.383811",
     "status": "completed"
    },
    "tags": []
   },
   "source": [
    "## Step 4: Take a closer look\n",
    "\n",
    "#### Part A\n",
    "\n",
    "Create the same scatter plot you created in **Step 3**, but now with a regression line!"
   ]
  },
  {
   "cell_type": "code",
   "execution_count": 12,
   "id": "9f9861c8",
   "metadata": {
    "execution": {
     "iopub.execute_input": "2023-06-07T20:14:52.413821Z",
     "iopub.status.busy": "2023-06-07T20:14:52.413135Z",
     "iopub.status.idle": "2023-06-07T20:14:52.796562Z",
     "shell.execute_reply": "2023-06-07T20:14:52.795385Z"
    },
    "papermill": {
     "duration": 0.396323,
     "end_time": "2023-06-07T20:14:52.798778",
     "exception": false,
     "start_time": "2023-06-07T20:14:52.402455",
     "status": "completed"
    },
    "tags": []
   },
   "outputs": [
    {
     "data": {
      "application/javascript": [
       "parent.postMessage({\"jupyterEvent\": \"custom.exercise_interaction\", \"data\": {\"outcomeType\": 1, \"valueTowardsCompletion\": 0.3333333333333333, \"interactionType\": 1, \"questionType\": 2, \"questionId\": \"4.1_PlotBlueReg\", \"learnToolsVersion\": \"0.3.4\", \"failureMessage\": \"\", \"exceptionClass\": \"\", \"trace\": \"\"}}, \"*\")"
      ],
      "text/plain": [
       "<IPython.core.display.Javascript object>"
      ]
     },
     "metadata": {},
     "output_type": "display_data"
    },
    {
     "data": {
      "text/markdown": [
       "<span style=\"color:#33cc33\">Correct</span>"
      ],
      "text/plain": [
       "Correct"
      ]
     },
     "metadata": {},
     "output_type": "display_data"
    },
    {
     "data": {
      "image/png": "[encoded data removed]",
      "text/plain": [
       "<Figure size 640x480 with 1 Axes>"
      ]
     },
     "metadata": {},
     "output_type": "display_data"
    }
   ],
   "source": [
    "# Scatter plot w/ regression line showing the relationship between 'sugarpercent' and 'winpercent'\n",
    "sns.regplot(x=candy_data['sugarpercent'], y=candy_data['winpercent'])\n",
    "\n",
    "# Check your answer\n",
    "step_4.a.check()"
   ]
  },
  {
   "cell_type": "code",
   "execution_count": 13,
   "id": "fa1d3aed",
   "metadata": {
    "execution": {
     "iopub.execute_input": "2023-06-07T20:14:52.821703Z",
     "iopub.status.busy": "2023-06-07T20:14:52.820989Z",
     "iopub.status.idle": "2023-06-07T20:14:52.825223Z",
     "shell.execute_reply": "2023-06-07T20:14:52.824382Z"
    },
    "papermill": {
     "duration": 0.017955,
     "end_time": "2023-06-07T20:14:52.827237",
     "exception": false,
     "start_time": "2023-06-07T20:14:52.809282",
     "status": "completed"
    },
    "tags": []
   },
   "outputs": [],
   "source": [
    "# Lines below will give you a hint or solution code\n",
    "#step_4.a.hint()\n",
    "#step_4.a.solution_plot()"
   ]
  },
  {
   "cell_type": "markdown",
   "id": "a7127923",
   "metadata": {
    "papermill": {
     "duration": 0.010057,
     "end_time": "2023-06-07T20:14:52.847910",
     "exception": false,
     "start_time": "2023-06-07T20:14:52.837853",
     "status": "completed"
    },
    "tags": []
   },
   "source": [
    "#### Part B\n",
    "\n",
    "According to the plot above, is there a **slight** correlation between `'winpercent'` and `'sugarpercent'`?  What does this tell you about the candy that people tend to prefer?"
   ]
  },
  {
   "cell_type": "code",
   "execution_count": 14,
   "id": "b1efa61f",
   "metadata": {
    "execution": {
     "iopub.execute_input": "2023-06-07T20:14:52.871624Z",
     "iopub.status.busy": "2023-06-07T20:14:52.871239Z",
     "iopub.status.idle": "2023-06-07T20:14:52.879303Z",
     "shell.execute_reply": "2023-06-07T20:14:52.878348Z"
    },
    "papermill": {
     "duration": 0.023349,
     "end_time": "2023-06-07T20:14:52.881572",
     "exception": false,
     "start_time": "2023-06-07T20:14:52.858223",
     "status": "completed"
    },
    "tags": []
   },
   "outputs": [
    {
     "data": {
      "application/javascript": [
       "parent.postMessage({\"jupyterEvent\": \"custom.exercise_interaction\", \"data\": {\"interactionType\": 2, \"questionType\": 4, \"questionId\": \"4.2_ThinkBlueReg\", \"learnToolsVersion\": \"0.3.4\", \"valueTowardsCompletion\": 0.0, \"failureMessage\": \"\", \"exceptionClass\": \"\", \"trace\": \"\", \"outcomeType\": 4}}, \"*\")"
      ],
      "text/plain": [
       "<IPython.core.display.Javascript object>"
      ]
     },
     "metadata": {},
     "output_type": "display_data"
    },
    {
     "data": {
      "text/markdown": [
       "<span style=\"color:#3366cc\">Hint:</span> Does the regression line have a positive or negative slope?"
      ],
      "text/plain": [
       "Hint: Does the regression line have a positive or negative slope?"
      ]
     },
     "metadata": {},
     "output_type": "display_data"
    }
   ],
   "source": [
    "step_4.b.hint()"
   ]
  },
  {
   "cell_type": "code",
   "execution_count": 15,
   "id": "81e31dbd",
   "metadata": {
    "execution": {
     "iopub.execute_input": "2023-06-07T20:14:52.907249Z",
     "iopub.status.busy": "2023-06-07T20:14:52.906524Z",
     "iopub.status.idle": "2023-06-07T20:14:52.914730Z",
     "shell.execute_reply": "2023-06-07T20:14:52.913613Z"
    },
    "papermill": {
     "duration": 0.022391,
     "end_time": "2023-06-07T20:14:52.916764",
     "exception": false,
     "start_time": "2023-06-07T20:14:52.894373",
     "status": "completed"
    },
    "tags": []
   },
   "outputs": [
    {
     "data": {
      "application/javascript": [
       "parent.postMessage({\"jupyterEvent\": \"custom.exercise_interaction\", \"data\": {\"interactionType\": 3, \"questionType\": 4, \"questionId\": \"4.2_ThinkBlueReg\", \"learnToolsVersion\": \"0.3.4\", \"valueTowardsCompletion\": 0.0, \"failureMessage\": \"\", \"exceptionClass\": \"\", \"trace\": \"\", \"outcomeType\": 4}}, \"*\")"
      ],
      "text/plain": [
       "<IPython.core.display.Javascript object>"
      ]
     },
     "metadata": {},
     "output_type": "display_data"
    },
    {
     "data": {
      "text/markdown": [
       "<span style=\"color:#33cc99\">Solution:</span> Since the regression line has a slightly positive slope, this tells us that there is a slightly positive correlation between `'winpercent'` and `'sugarpercent'`. Thus, people have a slight preference for candies containing relatively more sugar."
      ],
      "text/plain": [
       "Solution: Since the regression line has a slightly positive slope, this tells us that there is a slightly positive correlation between `'winpercent'` and `'sugarpercent'`. Thus, people have a slight preference for candies containing relatively more sugar."
      ]
     },
     "metadata": {},
     "output_type": "display_data"
    }
   ],
   "source": [
    "# Check your answer (Run this code cell to receive credit!)\n",
    "step_4.b.solution()"
   ]
  },
  {
   "cell_type": "markdown",
   "id": "95374a20",
   "metadata": {
    "papermill": {
     "duration": 0.010438,
     "end_time": "2023-06-07T20:14:52.937988",
     "exception": false,
     "start_time": "2023-06-07T20:14:52.927550",
     "status": "completed"
    },
    "tags": []
   },
   "source": [
    "## Step 5: Chocolate!\n",
    "\n",
    "In the code cell below, create a scatter plot to show the relationship between `'pricepercent'` (on the horizontal x-axis) and `'winpercent'` (on the vertical y-axis). Use the `'chocolate'` column to color-code the points.  _Don't add any regression lines just yet -- you'll do that in the next step!_"
   ]
  },
  {
   "cell_type": "code",
   "execution_count": 16,
   "id": "ed575338",
   "metadata": {
    "execution": {
     "iopub.execute_input": "2023-06-07T20:14:52.961394Z",
     "iopub.status.busy": "2023-06-07T20:14:52.960977Z",
     "iopub.status.idle": "2023-06-07T20:14:53.308419Z",
     "shell.execute_reply": "2023-06-07T20:14:53.307171Z"
    },
    "papermill": {
     "duration": 0.362102,
     "end_time": "2023-06-07T20:14:53.310959",
     "exception": false,
     "start_time": "2023-06-07T20:14:52.948857",
     "status": "completed"
    },
    "tags": []
   },
   "outputs": [
    {
     "data": {
      "application/javascript": [
       "parent.postMessage({\"jupyterEvent\": \"custom.exercise_interaction\", \"data\": {\"outcomeType\": 1, \"valueTowardsCompletion\": 0.3333333333333333, \"interactionType\": 1, \"questionType\": 2, \"questionId\": \"5_ColorScatter\", \"learnToolsVersion\": \"0.3.4\", \"failureMessage\": \"\", \"exceptionClass\": \"\", \"trace\": \"\"}}, \"*\")"
      ],
      "text/plain": [
       "<IPython.core.display.Javascript object>"
      ]
     },
     "metadata": {},
     "output_type": "display_data"
    },
    {
     "data": {
      "text/markdown": [
       "<span style=\"color:#33cc33\">Correct</span>"
      ],
      "text/plain": [
       "Correct"
      ]
     },
     "metadata": {},
     "output_type": "display_data"
    },
    {
     "data": {
      "image/png": "[encoded data removed]",
      "text/plain": [
       "<Figure size 640x480 with 1 Axes>"
      ]
     },
     "metadata": {},
     "output_type": "display_data"
    }
   ],
   "source": [
    "# Scatter plot showing the relationship between 'pricepercent', 'winpercent', and 'chocolate'\n",
    "sns.scatterplot(x=candy_data['pricepercent'], y=candy_data['winpercent'], hue=candy_data['chocolate'])\n",
    "\n",
    "# Check your answer\n",
    "step_5.check()"
   ]
  },
  {
   "cell_type": "code",
   "execution_count": 17,
   "id": "3874719a",
   "metadata": {
    "execution": {
     "iopub.execute_input": "2023-06-07T20:14:53.336065Z",
     "iopub.status.busy": "2023-06-07T20:14:53.335706Z",
     "iopub.status.idle": "2023-06-07T20:14:53.339675Z",
     "shell.execute_reply": "2023-06-07T20:14:53.338642Z"
    },
    "papermill": {
     "duration": 0.019034,
     "end_time": "2023-06-07T20:14:53.341739",
     "exception": false,
     "start_time": "2023-06-07T20:14:53.322705",
     "status": "completed"
    },
    "tags": []
   },
   "outputs": [],
   "source": [
    "# Lines below will give you a hint or solution code\n",
    "#step_5.hint()\n",
    "#step_5.solution_plot()"
   ]
  },
  {
   "cell_type": "markdown",
   "id": "a73ab6aa",
   "metadata": {
    "papermill": {
     "duration": 0.012078,
     "end_time": "2023-06-07T20:14:53.365619",
     "exception": false,
     "start_time": "2023-06-07T20:14:53.353541",
     "status": "completed"
    },
    "tags": []
   },
   "source": [
    "Can you see any interesting patterns in the scatter plot?  We'll investigate this plot further  by adding regression lines in the next step!\n",
    "\n",
    "## Step 6: Investigate chocolate\n",
    "\n",
    "#### Part A\n",
    "\n",
    "Create the same scatter plot you created in **Step 5**, but now with two regression lines, corresponding to (1) chocolate candies and (2) candies without chocolate."
   ]
  },
  {
   "cell_type": "code",
   "execution_count": 18,
   "id": "fb872500",
   "metadata": {
    "execution": {
     "iopub.execute_input": "2023-06-07T20:14:53.390747Z",
     "iopub.status.busy": "2023-06-07T20:14:53.390382Z",
     "iopub.status.idle": "2023-06-07T20:14:54.112523Z",
     "shell.execute_reply": "2023-06-07T20:14:54.111382Z"
    },
    "papermill": {
     "duration": 0.737292,
     "end_time": "2023-06-07T20:14:54.114780",
     "exception": false,
     "start_time": "2023-06-07T20:14:53.377488",
     "status": "completed"
    },
    "tags": []
   },
   "outputs": [
    {
     "data": {
      "application/javascript": [
       "parent.postMessage({\"jupyterEvent\": \"custom.exercise_interaction\", \"data\": {\"outcomeType\": 1, \"valueTowardsCompletion\": 0.3333333333333333, \"interactionType\": 1, \"questionType\": 2, \"questionId\": \"6.1_PlotColorReg\", \"learnToolsVersion\": \"0.3.4\", \"failureMessage\": \"\", \"exceptionClass\": \"\", \"trace\": \"\"}}, \"*\")"
      ],
      "text/plain": [
       "<IPython.core.display.Javascript object>"
      ]
     },
     "metadata": {},
     "output_type": "display_data"
    },
    {
     "data": {
      "text/markdown": [
       "<span style=\"color:#33cc33\">Correct</span>"
      ],
      "text/plain": [
       "Correct"
      ]
     },
     "metadata": {},
     "output_type": "display_data"
    },
    {
     "data": {
      "image/png": "[encoded data removed]",
      "text/plain": [
       "<Figure size 578.611x500 with 1 Axes>"
      ]
     },
     "metadata": {},
     "output_type": "display_data"
    }
   ],
   "source": [
    "# Color-coded scatter plot w/ regression lines\n",
    "sns.lmplot(x=\"pricepercent\", y=\"winpercent\", hue=\"chocolate\", data=candy_data)\n",
    "\n",
    "# Check your answer\n",
    "step_6.a.check()"
   ]
  },
  {
   "cell_type": "code",
   "execution_count": 19,
   "id": "c6ce9f09",
   "metadata": {
    "execution": {
     "iopub.execute_input": "2023-06-07T20:14:54.141064Z",
     "iopub.status.busy": "2023-06-07T20:14:54.140702Z",
     "iopub.status.idle": "2023-06-07T20:14:54.145166Z",
     "shell.execute_reply": "2023-06-07T20:14:54.144174Z"
    },
    "papermill": {
     "duration": 0.019902,
     "end_time": "2023-06-07T20:14:54.147072",
     "exception": false,
     "start_time": "2023-06-07T20:14:54.127170",
     "status": "completed"
    },
    "tags": []
   },
   "outputs": [],
   "source": [
    "# Lines below will give you a hint or solution code\n",
    "#step_6.a.hint()\n",
    "#step_6.a.solution_plot()"
   ]
  },
  {
   "cell_type": "markdown",
   "id": "3ecc6a90",
   "metadata": {
    "papermill": {
     "duration": 0.011899,
     "end_time": "2023-06-07T20:14:54.171312",
     "exception": false,
     "start_time": "2023-06-07T20:14:54.159413",
     "status": "completed"
    },
    "tags": []
   },
   "source": [
    "#### Part B\n",
    "\n",
    "Using the regression lines, what conclusions can you draw about the effects of chocolate and price on candy popularity?"
   ]
  },
  {
   "cell_type": "code",
   "execution_count": 20,
   "id": "20fcebfe",
   "metadata": {
    "execution": {
     "iopub.execute_input": "2023-06-07T20:14:54.197884Z",
     "iopub.status.busy": "2023-06-07T20:14:54.197523Z",
     "iopub.status.idle": "2023-06-07T20:14:54.201812Z",
     "shell.execute_reply": "2023-06-07T20:14:54.200888Z"
    },
    "papermill": {
     "duration": 0.020143,
     "end_time": "2023-06-07T20:14:54.203798",
     "exception": false,
     "start_time": "2023-06-07T20:14:54.183655",
     "status": "completed"
    },
    "tags": []
   },
   "outputs": [],
   "source": [
    "#step_6.b.hint()"
   ]
  },
  {
   "cell_type": "code",
   "execution_count": 21,
   "id": "723f14a3",
   "metadata": {
    "execution": {
     "iopub.execute_input": "2023-06-07T20:14:54.230360Z",
     "iopub.status.busy": "2023-06-07T20:14:54.229964Z",
     "iopub.status.idle": "2023-06-07T20:14:54.237804Z",
     "shell.execute_reply": "2023-06-07T20:14:54.236839Z"
    },
    "papermill": {
     "duration": 0.023741,
     "end_time": "2023-06-07T20:14:54.239961",
     "exception": false,
     "start_time": "2023-06-07T20:14:54.216220",
     "status": "completed"
    },
    "tags": []
   },
   "outputs": [
    {
     "data": {
      "application/javascript": [
       "parent.postMessage({\"jupyterEvent\": \"custom.exercise_interaction\", \"data\": {\"interactionType\": 3, \"questionType\": 4, \"questionId\": \"6.2_ThinkColorReg\", \"learnToolsVersion\": \"0.3.4\", \"valueTowardsCompletion\": 0.0, \"failureMessage\": \"\", \"exceptionClass\": \"\", \"trace\": \"\", \"outcomeType\": 4}}, \"*\")"
      ],
      "text/plain": [
       "<IPython.core.display.Javascript object>"
      ]
     },
     "metadata": {},
     "output_type": "display_data"
    },
    {
     "data": {
      "text/markdown": [
       "<span style=\"color:#33cc99\">Solution:</span> We'll begin with the regression line for chocolate candies. Since this line has a slightly positive slope, we can say that more expensive chocolate candies tend to be more popular (than relatively cheaper chocolate candies).  Likewise, since the regression line for candies without chocolate has a negative slope, we can say that if candies don't contain chocolate, they tend to be more popular when they are cheaper.  One important note, however, is that the dataset is quite small -- so we shouldn't invest too much trust in these patterns!  To inspire more confidence in the results, we should add more candies to the dataset."
      ],
      "text/plain": [
       "Solution: We'll begin with the regression line for chocolate candies. Since this line has a slightly positive slope, we can say that more expensive chocolate candies tend to be more popular (than relatively cheaper chocolate candies).  Likewise, since the regression line for candies without chocolate has a negative slope, we can say that if candies don't contain chocolate, they tend to be more popular when they are cheaper.  One important note, however, is that the dataset is quite small -- so we shouldn't invest too much trust in these patterns!  To inspire more confidence in the results, we should add more candies to the dataset."
      ]
     },
     "metadata": {},
     "output_type": "display_data"
    }
   ],
   "source": [
    "# Check your answer (Run this code cell to receive credit!)\n",
    "step_6.b.solution()"
   ]
  },
  {
   "cell_type": "markdown",
   "id": "f6c6046c",
   "metadata": {
    "papermill": {
     "duration": 0.012247,
     "end_time": "2023-06-07T20:14:54.265002",
     "exception": false,
     "start_time": "2023-06-07T20:14:54.252755",
     "status": "completed"
    },
    "tags": []
   },
   "source": [
    "## Step 7: Everybody loves chocolate.\n",
    "\n",
    "#### Part A\n",
    "\n",
    "Create a categorical scatter plot to highlight the relationship between `'chocolate'` and `'winpercent'`.  Put `'chocolate'` on the (horizontal) x-axis, and `'winpercent'` on the (vertical) y-axis."
   ]
  },
  {
   "cell_type": "code",
   "execution_count": 22,
   "id": "1e9a7e65",
   "metadata": {
    "execution": {
     "iopub.execute_input": "2023-06-07T20:14:54.293202Z",
     "iopub.status.busy": "2023-06-07T20:14:54.292198Z",
     "iopub.status.idle": "2023-06-07T20:14:54.704868Z",
     "shell.execute_reply": "2023-06-07T20:14:54.703658Z"
    },
    "papermill": {
     "duration": 0.429231,
     "end_time": "2023-06-07T20:14:54.707711",
     "exception": false,
     "start_time": "2023-06-07T20:14:54.278480",
     "status": "completed"
    },
    "tags": []
   },
   "outputs": [
    {
     "data": {
      "application/javascript": [
       "parent.postMessage({\"jupyterEvent\": \"custom.exercise_interaction\", \"data\": {\"outcomeType\": 1, \"valueTowardsCompletion\": 0.3333333333333333, \"interactionType\": 1, \"questionType\": 2, \"questionId\": \"7.1_PlotSwarm\", \"learnToolsVersion\": \"0.3.4\", \"failureMessage\": \"\", \"exceptionClass\": \"\", \"trace\": \"\"}}, \"*\")"
      ],
      "text/plain": [
       "<IPython.core.display.Javascript object>"
      ]
     },
     "metadata": {},
     "output_type": "display_data"
    },
    {
     "data": {
      "text/markdown": [
       "<span style=\"color:#33cc33\">Correct</span>"
      ],
      "text/plain": [
       "Correct"
      ]
     },
     "metadata": {},
     "output_type": "display_data"
    },
    {
     "data": {
      "image/png": "[encoded data removed]",
      "text/plain": [
       "<Figure size 640x480 with 1 Axes>"
      ]
     },
     "metadata": {},
     "output_type": "display_data"
    }
   ],
   "source": [
    "# Scatter plot showing the relationship between 'chocolate' and 'winpercent'\n",
    "sns.swarmplot(x=candy_data['chocolate'], y=candy_data['winpercent'])\n",
    "\n",
    "# Check your answer\n",
    "step_7.a.check()"
   ]
  },
  {
   "cell_type": "code",
   "execution_count": 23,
   "id": "9d02bdba",
   "metadata": {
    "execution": {
     "iopub.execute_input": "2023-06-07T20:14:54.753613Z",
     "iopub.status.busy": "2023-06-07T20:14:54.752812Z",
     "iopub.status.idle": "2023-06-07T20:14:54.757484Z",
     "shell.execute_reply": "2023-06-07T20:14:54.756516Z"
    },
    "papermill": {
     "duration": 0.029873,
     "end_time": "2023-06-07T20:14:54.759396",
     "exception": false,
     "start_time": "2023-06-07T20:14:54.729523",
     "status": "completed"
    },
    "tags": []
   },
   "outputs": [],
   "source": [
    "# Lines below will give you a hint or solution code\n",
    "#step_7.a.hint()\n",
    "#step_7.a.solution_plot()"
   ]
  },
  {
   "cell_type": "markdown",
   "id": "e438392e",
   "metadata": {
    "papermill": {
     "duration": 0.012945,
     "end_time": "2023-06-07T20:14:54.785588",
     "exception": false,
     "start_time": "2023-06-07T20:14:54.772643",
     "status": "completed"
    },
    "tags": []
   },
   "source": [
    "#### Part B\n",
    "\n",
    "You decide to dedicate a section of your report to the fact that chocolate candies tend to be more popular than candies without chocolate.  Which plot is more appropriate to tell this story: the plot from **Step 6**, or the plot from **Step 7**?"
   ]
  },
  {
   "cell_type": "code",
   "execution_count": 24,
   "id": "4e207836",
   "metadata": {
    "execution": {
     "iopub.execute_input": "2023-06-07T20:14:54.813914Z",
     "iopub.status.busy": "2023-06-07T20:14:54.813233Z",
     "iopub.status.idle": "2023-06-07T20:14:54.816807Z",
     "shell.execute_reply": "2023-06-07T20:14:54.816127Z"
    },
    "papermill": {
     "duration": 0.019811,
     "end_time": "2023-06-07T20:14:54.818590",
     "exception": false,
     "start_time": "2023-06-07T20:14:54.798779",
     "status": "completed"
    },
    "tags": []
   },
   "outputs": [],
   "source": [
    "#step_7.b.hint()"
   ]
  },
  {
   "cell_type": "code",
   "execution_count": 25,
   "id": "07aa3794",
   "metadata": {
    "execution": {
     "iopub.execute_input": "2023-06-07T20:14:54.846528Z",
     "iopub.status.busy": "2023-06-07T20:14:54.845867Z",
     "iopub.status.idle": "2023-06-07T20:14:54.852266Z",
     "shell.execute_reply": "2023-06-07T20:14:54.851606Z"
    },
    "papermill": {
     "duration": 0.022409,
     "end_time": "2023-06-07T20:14:54.853981",
     "exception": false,
     "start_time": "2023-06-07T20:14:54.831572",
     "status": "completed"
    },
    "tags": []
   },
   "outputs": [
    {
     "data": {
      "application/javascript": [
       "parent.postMessage({\"jupyterEvent\": \"custom.exercise_interaction\", \"data\": {\"interactionType\": 3, \"questionType\": 4, \"questionId\": \"7.2_ThinkSwarm\", \"learnToolsVersion\": \"0.3.4\", \"valueTowardsCompletion\": 0.0, \"failureMessage\": \"\", \"exceptionClass\": \"\", \"trace\": \"\", \"outcomeType\": 4}}, \"*\")"
      ],
      "text/plain": [
       "<IPython.core.display.Javascript object>"
      ]
     },
     "metadata": {},
     "output_type": "display_data"
    },
    {
     "data": {
      "text/markdown": [
       "<span style=\"color:#33cc99\">Solution:</span> In this case, the categorical scatter plot from **Step 7** is the more appropriate plot. While both plots tell the desired story, the plot from **Step 6** conveys far more information that could distract from the main point."
      ],
      "text/plain": [
       "Solution: In this case, the categorical scatter plot from **Step 7** is the more appropriate plot. While both plots tell the desired story, the plot from **Step 6** conveys far more information that could distract from the main point."
      ]
     },
     "metadata": {},
     "output_type": "display_data"
    }
   ],
   "source": [
    "# Check your answer (Run this code cell to receive credit!)\n",
    "step_7.b.solution()"
   ]
  },
  {
   "cell_type": "markdown",
   "id": "2598b52a",
   "metadata": {
    "papermill": {
     "duration": 0.012943,
     "end_time": "2023-06-07T20:14:54.880224",
     "exception": false,
     "start_time": "2023-06-07T20:14:54.867281",
     "status": "completed"
    },
    "tags": []
   },
   "source": [
    "## Keep going\n",
    "\n",
    "Explore **[histograms and density plots](https://www.kaggle.com/alexisbcook/distributions)**."
   ]
  },
  {
   "cell_type": "markdown",
   "id": "d48da5e8",
   "metadata": {
    "papermill": {
     "duration": 0.013036,
     "end_time": "2023-06-07T20:14:54.906508",
     "exception": false,
     "start_time": "2023-06-07T20:14:54.893472",
     "status": "completed"
    },
    "tags": []
   },
   "source": [
    "---\n",
    "\n",
    "\n",
    "\n",
    "\n",
    "*Have questions or comments? Visit the [course discussion forum](https://www.kaggle.com/learn/data-visualization/discussion) to chat with other learners.*"
   ]
  }
 ],
 "metadata": {
  "kernelspec": {
   "display_name": "Python 3",
   "language": "python",
   "name": "python3"
  },
  "language_info": {
   "codemirror_mode": {
    "name": "ipython",
    "version": 3
   },
   "file_extension": ".py",
   "mimetype": "text/x-python",
   "name": "python",
   "nbconvert_exporter": "python",
   "pygments_lexer": "ipython3",
   "version": "3.10.10"
  },
  "papermill": {
   "default_parameters": {},
   "duration": 15.240917,
   "end_time": "2023-06-07T20:14:55.840858",
   "environment_variables": {},
   "exception": null,
   "input_path": "__notebook__.ipynb",
   "output_path": "__notebook__.ipynb",
   "parameters": {},
   "start_time": "2023-06-07T20:14:40.599941",
   "version": "2.4.0"
  }
 },
 "nbformat": 4,
 "nbformat_minor": 5
}
